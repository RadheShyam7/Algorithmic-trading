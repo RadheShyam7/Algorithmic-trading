{
  "cells": [
    {
      "cell_type": "code",
      "execution_count": 1,
      "metadata": {
        "id": "F10KO1j7nEsb"
      },
      "outputs": [],
      "source": [
        "import pandas as pd\n",
        "from sklearn.ensemble import RandomForestRegressor\n",
        "from sklearn.inspection import permutation_importance\n",
        "from sklearn.model_selection import train_test_split\n",
        "from sklearn.preprocessing import LabelEncoder\n",
        "from sklearn.impute import SimpleImputer\n",
        "from sklearn.preprocessing import OneHotEncoder"
      ]
    },
    {
      "cell_type": "code",
      "execution_count": 2,
      "metadata": {
        "colab": {
          "base_uri": "https://localhost:8080/"
        },
        "id": "dz6DdFA_l_LM",
        "outputId": "b7f0ea03-6813-474b-a735-8ab7516576c7"
      },
      "outputs": [
        {
          "output_type": "stream",
          "name": "stdout",
          "text": [
            "Mounted at /content/drive\n"
          ]
        }
      ],
      "source": [
        "from google.colab import drive\n",
        "drive.mount('/content/drive')"
      ]
    },
    {
      "cell_type": "code",
      "execution_count": 3,
      "metadata": {
        "id": "j37QY9pGm6H9"
      },
      "outputs": [],
      "source": [
        "path= \"/content/drive/My Drive/finviz-3.csv\"\n",
        "df = pd.read_csv(path)"
      ]
    },
    {
      "cell_type": "code",
      "execution_count": 4,
      "metadata": {
        "colab": {
          "base_uri": "https://localhost:8080/"
        },
        "id": "dD8VLJZ4zYN8",
        "outputId": "f8ae5f13-e94b-482e-858d-624ba98b99c1"
      },
      "outputs": [
        {
          "output_type": "stream",
          "name": "stdout",
          "text": [
            "['Ticker', 'Company', 'Index', 'Sector', 'Industry', 'Country', 'Market Cap', 'P/E', 'Forward P/E', 'PEG', 'P/S', 'P/B', 'P/Cash', 'P/Free Cash Flow', 'Book/sh', 'Cash/sh', 'Dividend', 'Dividend Yield', 'Payout Ratio', 'EPS (ttm)', 'EPS next Q', 'EPS growth this year', 'EPS growth next year', 'EPS growth past 5 years', 'EPS growth next 5 years', 'Sales growth past 5 years', 'Sales growth quarter over quarter', 'EPS growth quarter over quarter', 'Sales', 'Income', 'EPS Surprise', 'Revenue Surprise', 'Shares Outstanding', 'Shares Float', 'Float %', 'Insider Ownership', 'Insider Transactions', 'Institutional Ownership', 'Institutional Transactions', 'Float Short', 'Short Ratio', 'Short Interest', 'Return on Assets', 'Return on Equity', 'Return on Investment', 'Current Ratio', 'Quick Ratio', 'LT Debt/Equity', 'Total Debt/Equity', 'Gross Margin', 'Operating Margin', 'Profit Margin', 'Beta', 'Average True Range', 'Volatility (Week)', 'Volatility (Month)', '20-Day Simple Moving Average', '50-Day Simple Moving Average', '200-Day Simple Moving Average', 'All-Time High', 'Relative Strength Index (14)', 'Earnings Date', 'IPO Date', 'Optionable', 'Shortable', 'Employees', 'Change from Open', 'Gap', 'Analyst Recom', 'Average Volume', 'Relative Volume', 'Volume', 'Trades', 'Target Price', 'Prev Close', 'Price', 'Change', 'After-Hours Change', 'Single Category', 'Asset Type', 'ETF Type', 'Sector/Theme', 'Region', 'Active/Passive', 'Net Expense Ratio', 'Total Holdings', 'Assets Under Management', 'Net Asset Value', 'Net Asset Value %', 'Net Flows (1 Month)', 'Net Flows % (1 Month)', 'Net Flows (3 Month)', 'Net Flows % (3 Month)', 'Net Flows (YTD)', 'Net Flows % (YTD)', 'Net Flows (1 Year)', 'Net Flows % (1 Year)', 'Return 1 Year', 'Return 3 Year', 'Return 5 Year', 'Return 10 Year', 'Return Since Inception', 'Tags']\n"
          ]
        }
      ],
      "source": [
        "print(df.columns.tolist())"
      ]
    },
    {
      "cell_type": "code",
      "execution_count": 5,
      "metadata": {
        "id": "nZobCIaLmTOD",
        "colab": {
          "base_uri": "https://localhost:8080/"
        },
        "outputId": "b461bff2-0e49-47be-e39c-45bf15d8ad11"
      },
      "outputs": [
        {
          "output_type": "stream",
          "name": "stderr",
          "text": [
            "/usr/local/lib/python3.10/dist-packages/sklearn/impute/_base.py:558: UserWarning: Skipping features without any observed values: [0]. At least one non-missing value is needed for imputation with strategy='mean'.\n",
            "  warnings.warn(\n"
          ]
        }
      ],
      "source": [
        "target = 'Price'\n",
        "y = df[target]\n",
        "X = df.drop(target, axis=1)\n",
        "\n",
        "# Encode categorical features\n",
        "categorical_features = X.dtypes == object\n",
        "categorical_cols = X.columns[categorical_features]\n",
        "label_encoder = LabelEncoder()\n",
        "X[categorical_cols] = X[categorical_cols].apply(lambda col: label_encoder.fit_transform(col))\n",
        "\n",
        "# One-hot encode categorical features\n",
        "from sklearn.preprocessing import OneHotEncoder\n",
        "one_hot_encoder = OneHotEncoder(handle_unknown='ignore')\n",
        "X_encoded = one_hot_encoder.fit_transform(X[categorical_cols])\n",
        "\n",
        "# Combine one-hot encoded features with numeric features\n",
        "numeric_cols = X.select_dtypes(include=['float64', 'int64']).columns\n",
        "X = pd.concat([X[numeric_cols], pd.DataFrame(X_encoded.toarray())], axis=1)\n",
        "\n",
        "# Impute missing values for numeric features\n",
        "for feature in numeric_cols:\n",
        "    imputer = SimpleImputer(strategy='mean')\n",
        "    X[feature] = imputer.fit_transform(X[feature].values.reshape(-1, 1))\n"
      ]
    },
    {
      "cell_type": "code",
      "source": [
        "# Split the data into train and test sets\n",
        "X_train, X_test, y_train, y_test = train_test_split(X, y, test_size=0.2, random_state=42)\n",
        "\n",
        "# Create a random forest regression model\n",
        "rf = RandomForestRegressor(n_estimators=100, random_state=42)\n",
        "\n",
        "# Fit the model to the training data\n",
        "rf.fit(X_train, y_train)\n",
        "\n",
        "# Calculate the permutation feature importance\n",
        "perm_importance = permutation_importance(rf, X_test, y_test)\n",
        "\n",
        "# Sort the features by importance and display the results\n",
        "sorted_idx = perm_importance.importances_mean.argsort()\n",
        "feature_names = X_train.columns[sorted_idx]\n",
        "importance_values = perm_importance.importances_mean[sorted_idx]\n",
        "\n",
        "for name, value in zip(feature_names, importance_values):\n",
        "    print(f\"{name}: {value:.3f}\")"
      ],
      "metadata": {
        "id": "CuYfvGyXCZKr"
      },
      "execution_count": null,
      "outputs": []
    }
  ],
  "metadata": {
    "colab": {
      "provenance": []
    },
    "kernelspec": {
      "display_name": "Python 3",
      "name": "python3"
    },
    "language_info": {
      "name": "python"
    }
  },
  "nbformat": 4,
  "nbformat_minor": 0
}
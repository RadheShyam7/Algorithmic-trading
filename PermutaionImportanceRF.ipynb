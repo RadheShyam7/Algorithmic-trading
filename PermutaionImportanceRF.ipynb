{
  "nbformat": 4,
  "nbformat_minor": 0,
  "metadata": {
    "colab": {
      "provenance": []
    },
    "kernelspec": {
      "name": "python3",
      "display_name": "Python 3"
    },
    "language_info": {
      "name": "python"
    }
  },
  "cells": [
    {
      "cell_type": "code",
      "execution_count": null,
      "metadata": {
        "id": "cSV10qk2j1EY"
      },
      "outputs": [],
      "source": [
        "import pandas as pd\n",
        "from sklearn.ensemble import RandomForestRegressor\n",
        "from sklearn.inspection import permutation_importance\n",
        "from sklearn.model_selection import train_test_split\n",
        "from sklearn.preprocessing import LabelEncoder\n",
        "from sklearn.impute import SimpleImputer\n",
        "from sklearn.preprocessing import OneHotEncoder"
      ]
    },
    {
      "cell_type": "code",
      "source": [
        "from google.colab import drive\n",
        "drive.mount('/content/drive')"
      ],
      "metadata": {
        "colab": {
          "base_uri": "https://localhost:8080/"
        },
        "id": "ZkiQhlzsj54r",
        "outputId": "6f40ad9e-f368-42de-fc09-74124aae7a6f"
      },
      "execution_count": null,
      "outputs": [
        {
          "output_type": "stream",
          "name": "stdout",
          "text": [
            "Drive already mounted at /content/drive; to attempt to forcibly remount, call drive.mount(\"/content/drive\", force_remount=True).\n"
          ]
        }
      ]
    },
    {
      "cell_type": "code",
      "source": [
        "path= \"/content/drive/My Drive/finviz-5.csv\"\n",
        "data = pd.read_csv(path)"
      ],
      "metadata": {
        "id": "Mj3N2s3Vj_Jp"
      },
      "execution_count": null,
      "outputs": []
    },
    {
      "cell_type": "code",
      "source": [
        "data['Change from Open'] = data['Change from Open'].astype(str)\n",
        "data['Change'] = data['Change'].astype(str)\n",
        "\n",
        "data['Change from Open'] = data['Change from Open'].str.replace('%', '').astype(float) / 100\n",
        "data['Change'] = data['Change'].str.replace('%', '').astype(float) / 100\n",
        "\n",
        "\n",
        "data = data.fillna(0)\n",
        "\n",
        "X = data[['Short Ratio', 'Average True Range', 'Change from Open', 'Average Volume', 'Relative Volume', 'Volume', 'Prev Close', 'Open', 'High', 'Low', 'Price']]\n",
        "y = data['Change']\n",
        "\n",
        "rf = RandomForestRegressor()\n",
        "\n",
        "rf.fit(X, y)\n",
        "\n",
        "perm_importance = permutation_importance(rf, X, y, n_repeats=10, random_state=42)\n",
        "\n",
        "sorted_idx = perm_importance.importances_mean.argsort()\n",
        "\n",
        "for i in sorted_idx:\n",
        "    print(f\"{X.columns[i]}: {perm_importance.importances_mean[i]:.3f}\")"
      ],
      "metadata": {
        "colab": {
          "base_uri": "https://localhost:8080/"
        },
        "id": "KrJc6myNkVm5",
        "outputId": "20bb21f2-48fa-4ca6-a4b9-40ff47feec37"
      },
      "execution_count": null,
      "outputs": [
        {
          "output_type": "stream",
          "name": "stdout",
          "text": [
            "Open: 0.021\n",
            "Price: 0.026\n",
            "High: 0.027\n",
            "Low: 0.031\n",
            "Average Volume: 0.060\n",
            "Average True Range: 0.060\n",
            "Volume: 0.067\n",
            "Short Ratio: 0.107\n",
            "Prev Close: 0.111\n",
            "Relative Volume: 0.715\n",
            "Change from Open: 0.868\n"
          ]
        }
      ]
    }
  ]
}